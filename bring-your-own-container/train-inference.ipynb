{
 "cells": [
  {
   "cell_type": "code",
   "execution_count": 3,
   "id": "2f8d0c2f-1317-4290-8dd1-ba96749f31e2",
   "metadata": {},
   "outputs": [
    {
     "name": "stdout",
     "output_type": "stream",
     "text": [
      "Requirement already satisfied: sagemaker in /home/ec2-user/anaconda3/envs/python3/lib/python3.10/site-packages (2.247.0)\n",
      "Collecting sagemaker\n",
      "  Downloading sagemaker-2.247.1-py3-none-any.whl.metadata (17 kB)\n",
      "Requirement already satisfied: attrs<26,>=24 in /home/ec2-user/anaconda3/envs/python3/lib/python3.10/site-packages (from sagemaker) (25.3.0)\n",
      "Requirement already satisfied: boto3<2.0,>=1.35.75 in /home/ec2-user/anaconda3/envs/python3/lib/python3.10/site-packages (from sagemaker) (1.38.38)\n",
      "Requirement already satisfied: cloudpickle>=2.2.1 in /home/ec2-user/anaconda3/envs/python3/lib/python3.10/site-packages (from sagemaker) (3.1.1)\n",
      "Requirement already satisfied: docker in /home/ec2-user/anaconda3/envs/python3/lib/python3.10/site-packages (from sagemaker) (7.1.0)\n",
      "Requirement already satisfied: fastapi in /home/ec2-user/anaconda3/envs/python3/lib/python3.10/site-packages (from sagemaker) (0.115.13)\n",
      "Requirement already satisfied: google-pasta in /home/ec2-user/anaconda3/envs/python3/lib/python3.10/site-packages (from sagemaker) (0.2.0)\n",
      "Requirement already satisfied: graphene<4,>=3 in /home/ec2-user/anaconda3/envs/python3/lib/python3.10/site-packages (from sagemaker) (3.4.3)\n",
      "Requirement already satisfied: importlib-metadata<7.0,>=1.4.0 in /home/ec2-user/anaconda3/envs/python3/lib/python3.10/site-packages (from sagemaker) (6.11.0)\n",
      "Requirement already satisfied: jsonschema in /home/ec2-user/anaconda3/envs/python3/lib/python3.10/site-packages (from sagemaker) (4.24.0)\n",
      "Requirement already satisfied: numpy==1.26.4 in /home/ec2-user/anaconda3/envs/python3/lib/python3.10/site-packages (from sagemaker) (1.26.4)\n",
      "Requirement already satisfied: omegaconf<3,>=2.2 in /home/ec2-user/anaconda3/envs/python3/lib/python3.10/site-packages (from sagemaker) (2.3.0)\n",
      "Requirement already satisfied: packaging<25,>=23.0 in /home/ec2-user/anaconda3/envs/python3/lib/python3.10/site-packages (from sagemaker) (24.2)\n",
      "Requirement already satisfied: pandas in /home/ec2-user/anaconda3/envs/python3/lib/python3.10/site-packages (from sagemaker) (2.2.3)\n",
      "Requirement already satisfied: pathos in /home/ec2-user/anaconda3/envs/python3/lib/python3.10/site-packages (from sagemaker) (0.3.4)\n",
      "Requirement already satisfied: platformdirs in /home/ec2-user/anaconda3/envs/python3/lib/python3.10/site-packages (from sagemaker) (4.3.8)\n",
      "Requirement already satisfied: protobuf<6.0,>=3.12 in /home/ec2-user/anaconda3/envs/python3/lib/python3.10/site-packages (from sagemaker) (5.29.5)\n",
      "Requirement already satisfied: psutil in /home/ec2-user/anaconda3/envs/python3/lib/python3.10/site-packages (from sagemaker) (6.1.1)\n",
      "Requirement already satisfied: pyyaml>=6.0.1 in /home/ec2-user/anaconda3/envs/python3/lib/python3.10/site-packages (from sagemaker) (6.0.2)\n",
      "Requirement already satisfied: requests in /home/ec2-user/anaconda3/envs/python3/lib/python3.10/site-packages (from sagemaker) (2.32.4)\n",
      "Requirement already satisfied: sagemaker-core<2.0.0,>=1.0.17 in /home/ec2-user/anaconda3/envs/python3/lib/python3.10/site-packages (from sagemaker) (1.0.38)\n",
      "Requirement already satisfied: schema in /home/ec2-user/anaconda3/envs/python3/lib/python3.10/site-packages (from sagemaker) (0.7.7)\n",
      "Requirement already satisfied: smdebug-rulesconfig==1.0.1 in /home/ec2-user/anaconda3/envs/python3/lib/python3.10/site-packages (from sagemaker) (1.0.1)\n",
      "Requirement already satisfied: tblib<4,>=1.7.0 in /home/ec2-user/anaconda3/envs/python3/lib/python3.10/site-packages (from sagemaker) (3.1.0)\n",
      "Requirement already satisfied: tqdm in /home/ec2-user/anaconda3/envs/python3/lib/python3.10/site-packages (from sagemaker) (4.67.1)\n",
      "Requirement already satisfied: urllib3<3.0.0,>=1.26.8 in /home/ec2-user/anaconda3/envs/python3/lib/python3.10/site-packages (from sagemaker) (2.4.0)\n",
      "Requirement already satisfied: uvicorn in /home/ec2-user/anaconda3/envs/python3/lib/python3.10/site-packages (from sagemaker) (0.34.3)\n",
      "Requirement already satisfied: botocore<1.39.0,>=1.38.38 in /home/ec2-user/anaconda3/envs/python3/lib/python3.10/site-packages (from boto3<2.0,>=1.35.75->sagemaker) (1.38.38)\n",
      "Requirement already satisfied: jmespath<2.0.0,>=0.7.1 in /home/ec2-user/anaconda3/envs/python3/lib/python3.10/site-packages (from boto3<2.0,>=1.35.75->sagemaker) (1.0.1)\n",
      "Requirement already satisfied: s3transfer<0.14.0,>=0.13.0 in /home/ec2-user/anaconda3/envs/python3/lib/python3.10/site-packages (from boto3<2.0,>=1.35.75->sagemaker) (0.13.0)\n",
      "Requirement already satisfied: python-dateutil<3.0.0,>=2.1 in /home/ec2-user/anaconda3/envs/python3/lib/python3.10/site-packages (from botocore<1.39.0,>=1.38.38->boto3<2.0,>=1.35.75->sagemaker) (2.9.0.post0)\n",
      "Requirement already satisfied: graphql-core<3.3,>=3.1 in /home/ec2-user/anaconda3/envs/python3/lib/python3.10/site-packages (from graphene<4,>=3->sagemaker) (3.2.6)\n",
      "Requirement already satisfied: graphql-relay<3.3,>=3.1 in /home/ec2-user/anaconda3/envs/python3/lib/python3.10/site-packages (from graphene<4,>=3->sagemaker) (3.2.0)\n",
      "Requirement already satisfied: typing-extensions<5,>=4.7.1 in /home/ec2-user/anaconda3/envs/python3/lib/python3.10/site-packages (from graphene<4,>=3->sagemaker) (4.14.0)\n",
      "Requirement already satisfied: zipp>=0.5 in /home/ec2-user/anaconda3/envs/python3/lib/python3.10/site-packages (from importlib-metadata<7.0,>=1.4.0->sagemaker) (3.23.0)\n",
      "Requirement already satisfied: antlr4-python3-runtime==4.9.* in /home/ec2-user/anaconda3/envs/python3/lib/python3.10/site-packages (from omegaconf<3,>=2.2->sagemaker) (4.9.3)\n",
      "Requirement already satisfied: six>=1.5 in /home/ec2-user/anaconda3/envs/python3/lib/python3.10/site-packages (from python-dateutil<3.0.0,>=2.1->botocore<1.39.0,>=1.38.38->boto3<2.0,>=1.35.75->sagemaker) (1.17.0)\n",
      "Requirement already satisfied: pydantic<3.0.0,>=2.0.0 in /home/ec2-user/anaconda3/envs/python3/lib/python3.10/site-packages (from sagemaker-core<2.0.0,>=1.0.17->sagemaker) (2.9.2)\n",
      "Requirement already satisfied: rich<15.0.0,>=14.0.0 in /home/ec2-user/anaconda3/envs/python3/lib/python3.10/site-packages (from sagemaker-core<2.0.0,>=1.0.17->sagemaker) (14.0.0)\n",
      "Requirement already satisfied: mock<5.0,>4.0 in /home/ec2-user/anaconda3/envs/python3/lib/python3.10/site-packages (from sagemaker-core<2.0.0,>=1.0.17->sagemaker) (4.0.3)\n",
      "Requirement already satisfied: jsonschema-specifications>=2023.03.6 in /home/ec2-user/anaconda3/envs/python3/lib/python3.10/site-packages (from jsonschema->sagemaker) (2025.4.1)\n",
      "Requirement already satisfied: referencing>=0.28.4 in /home/ec2-user/anaconda3/envs/python3/lib/python3.10/site-packages (from jsonschema->sagemaker) (0.36.2)\n",
      "Requirement already satisfied: rpds-py>=0.7.1 in /home/ec2-user/anaconda3/envs/python3/lib/python3.10/site-packages (from jsonschema->sagemaker) (0.25.1)\n",
      "Requirement already satisfied: annotated-types>=0.6.0 in /home/ec2-user/anaconda3/envs/python3/lib/python3.10/site-packages (from pydantic<3.0.0,>=2.0.0->sagemaker-core<2.0.0,>=1.0.17->sagemaker) (0.7.0)\n",
      "Requirement already satisfied: pydantic-core==2.23.4 in /home/ec2-user/anaconda3/envs/python3/lib/python3.10/site-packages (from pydantic<3.0.0,>=2.0.0->sagemaker-core<2.0.0,>=1.0.17->sagemaker) (2.23.4)\n",
      "Requirement already satisfied: markdown-it-py>=2.2.0 in /home/ec2-user/anaconda3/envs/python3/lib/python3.10/site-packages (from rich<15.0.0,>=14.0.0->sagemaker-core<2.0.0,>=1.0.17->sagemaker) (3.0.0)\n",
      "Requirement already satisfied: pygments<3.0.0,>=2.13.0 in /home/ec2-user/anaconda3/envs/python3/lib/python3.10/site-packages (from rich<15.0.0,>=14.0.0->sagemaker-core<2.0.0,>=1.0.17->sagemaker) (2.19.1)\n",
      "Requirement already satisfied: mdurl~=0.1 in /home/ec2-user/anaconda3/envs/python3/lib/python3.10/site-packages (from markdown-it-py>=2.2.0->rich<15.0.0,>=14.0.0->sagemaker-core<2.0.0,>=1.0.17->sagemaker) (0.1.2)\n",
      "Requirement already satisfied: charset_normalizer<4,>=2 in /home/ec2-user/anaconda3/envs/python3/lib/python3.10/site-packages (from requests->sagemaker) (3.4.2)\n",
      "Requirement already satisfied: idna<4,>=2.5 in /home/ec2-user/anaconda3/envs/python3/lib/python3.10/site-packages (from requests->sagemaker) (3.10)\n",
      "Requirement already satisfied: certifi>=2017.4.17 in /home/ec2-user/anaconda3/envs/python3/lib/python3.10/site-packages (from requests->sagemaker) (2025.6.15)\n",
      "Requirement already satisfied: starlette<0.47.0,>=0.40.0 in /home/ec2-user/anaconda3/envs/python3/lib/python3.10/site-packages (from fastapi->sagemaker) (0.46.2)\n",
      "Requirement already satisfied: anyio<5,>=3.6.2 in /home/ec2-user/anaconda3/envs/python3/lib/python3.10/site-packages (from starlette<0.47.0,>=0.40.0->fastapi->sagemaker) (4.9.0)\n",
      "Requirement already satisfied: exceptiongroup>=1.0.2 in /home/ec2-user/anaconda3/envs/python3/lib/python3.10/site-packages (from anyio<5,>=3.6.2->starlette<0.47.0,>=0.40.0->fastapi->sagemaker) (1.3.0)\n",
      "Requirement already satisfied: sniffio>=1.1 in /home/ec2-user/anaconda3/envs/python3/lib/python3.10/site-packages (from anyio<5,>=3.6.2->starlette<0.47.0,>=0.40.0->fastapi->sagemaker) (1.3.1)\n",
      "Requirement already satisfied: pytz>=2020.1 in /home/ec2-user/anaconda3/envs/python3/lib/python3.10/site-packages (from pandas->sagemaker) (2024.1)\n",
      "Requirement already satisfied: tzdata>=2022.7 in /home/ec2-user/anaconda3/envs/python3/lib/python3.10/site-packages (from pandas->sagemaker) (2025.2)\n",
      "Requirement already satisfied: ppft>=1.7.7 in /home/ec2-user/anaconda3/envs/python3/lib/python3.10/site-packages (from pathos->sagemaker) (1.7.7)\n",
      "Requirement already satisfied: dill>=0.4.0 in /home/ec2-user/anaconda3/envs/python3/lib/python3.10/site-packages (from pathos->sagemaker) (0.4.0)\n",
      "Requirement already satisfied: pox>=0.3.6 in /home/ec2-user/anaconda3/envs/python3/lib/python3.10/site-packages (from pathos->sagemaker) (0.3.6)\n",
      "Requirement already satisfied: multiprocess>=0.70.18 in /home/ec2-user/anaconda3/envs/python3/lib/python3.10/site-packages (from pathos->sagemaker) (0.70.18)\n",
      "Requirement already satisfied: click>=7.0 in /home/ec2-user/anaconda3/envs/python3/lib/python3.10/site-packages (from uvicorn->sagemaker) (8.1.8)\n",
      "Requirement already satisfied: h11>=0.8 in /home/ec2-user/anaconda3/envs/python3/lib/python3.10/site-packages (from uvicorn->sagemaker) (0.16.0)\n",
      "Downloading sagemaker-2.247.1-py3-none-any.whl (1.7 MB)\n",
      "\u001b[2K   \u001b[90m━━━━━━━━━━━━━━━━━━━━━━━━━━━━━━━━━━━━━━━━\u001b[0m \u001b[32m1.7/1.7 MB\u001b[0m \u001b[31m50.3 MB/s\u001b[0m eta \u001b[36m0:00:00\u001b[0m\n",
      "\u001b[?25hInstalling collected packages: sagemaker\n",
      "  Attempting uninstall: sagemaker\n",
      "    Found existing installation: sagemaker 2.247.0\n",
      "    Uninstalling sagemaker-2.247.0:\n",
      "      Successfully uninstalled sagemaker-2.247.0\n",
      "Successfully installed sagemaker-2.247.1\n"
     ]
    }
   ],
   "source": [
    "!pip install --upgrade sagemaker"
   ]
  },
  {
   "cell_type": "code",
   "execution_count": 4,
   "id": "1888503a-18c1-4e98-b294-e717ba32d344",
   "metadata": {},
   "outputs": [
    {
     "name": "stderr",
     "output_type": "stream",
     "text": [
      "/home/ec2-user/anaconda3/envs/python3/lib/python3.10/site-packages/pandas/core/computation/expressions.py:21: UserWarning: Pandas requires version '2.8.4' or newer of 'numexpr' (version '2.7.3' currently installed).\n",
      "  from pandas.core.computation.check import NUMEXPR_INSTALLED\n"
     ]
    },
    {
     "name": "stdout",
     "output_type": "stream",
     "text": [
      "sagemaker.config INFO - Not applying SDK defaults from location: /etc/xdg/sagemaker/config.yaml\n",
      "sagemaker.config INFO - Not applying SDK defaults from location: /home/ec2-user/.config/sagemaker/config.yaml\n"
     ]
    }
   ],
   "source": [
    "import sagemaker\n",
    "import boto3\n",
    "from sagemaker.estimator import Estimator\n",
    "from sagemaker.model import Model"
   ]
  },
  {
   "cell_type": "markdown",
   "id": "ede29a67-a8f9-4adc-9f68-2a68b2796902",
   "metadata": {},
   "source": [
    "# Training with own container"
   ]
  },
  {
   "cell_type": "code",
   "execution_count": 5,
   "id": "140e932e-f140-4796-abc4-77eb24417594",
   "metadata": {},
   "outputs": [],
   "source": [
    "# --- 1. Inicialización ---\n",
    "# Obtener la sesión de SageMaker, el rol de ejecución y la región actual\n",
    "sagemaker_session = sagemaker.Session()\n",
    "role = sagemaker.get_execution_role()\n",
    "region = boto3.Session().region_name"
   ]
  },
  {
   "cell_type": "code",
   "execution_count": 6,
   "id": "653e6a76-111d-40ed-b6bd-60b568dcda42",
   "metadata": {},
   "outputs": [],
   "source": [
    "bucket_name = 'machine-learning-serviciosnutresa-featurestore-lab' "
   ]
  },
  {
   "cell_type": "code",
   "execution_count": 7,
   "id": "8d47fc77-ab8c-4164-853b-06dee93b57e8",
   "metadata": {},
   "outputs": [],
   "source": [
    "s3_input_train_path = f's3://{bucket_name}/data/tests/titanic/train/'"
   ]
  },
  {
   "cell_type": "code",
   "execution_count": 8,
   "id": "6244bbf8-66e8-492f-bc9a-d67e2ee5a91a",
   "metadata": {},
   "outputs": [],
   "source": [
    "# El nombre de la imagen que creaste en el Paso 1\n",
    "image_name = 'byco2-sklearn-1-5' "
   ]
  },
  {
   "cell_type": "code",
   "execution_count": 9,
   "id": "c1ad6c3c-c5e9-4e63-960a-c7731a9054fc",
   "metadata": {},
   "outputs": [],
   "source": [
    "# Construir la URI completa de tu imagen en ECR\n",
    "account_id = boto3.client('sts').get_caller_identity().get('Account')\n",
    "image_uri = f'{account_id}.dkr.ecr.{region}.amazonaws.com/{image_name}:latest'"
   ]
  },
  {
   "cell_type": "code",
   "execution_count": 10,
   "id": "1265932d-922d-4648-940b-622e0f645ab2",
   "metadata": {},
   "outputs": [
    {
     "name": "stdout",
     "output_type": "stream",
     "text": [
      "Usando la imagen de ECR: 544644514035.dkr.ecr.us-east-1.amazonaws.com/byco2-sklearn-1-5:latest\n",
      "Leyendo datos de: s3://machine-learning-serviciosnutresa-featurestore-lab/data/tests/titanic/train/\n",
      "Usando el script: ./src/app.py\n"
     ]
    }
   ],
   "source": [
    "source_dir = './src/'\n",
    "entry_point = 'app.py'\n",
    "print(f\"Usando la imagen de ECR: {image_uri}\")\n",
    "print(f\"Leyendo datos de: {s3_input_train_path}\")\n",
    "print(f\"Usando el script: {source_dir}{entry_point}\")"
   ]
  },
  {
   "cell_type": "code",
   "execution_count": 11,
   "id": "f2925109-ceb2-4f68-9c92-806264b7ef58",
   "metadata": {},
   "outputs": [],
   "source": [
    "estimator = Estimator(\n",
    "    image_uri=image_uri,          # Tu contenedor personalizado\n",
    "    role=role,                    # El rol de IAM para que SageMaker tenga permisos\n",
    "    entry_point=entry_point,      # Tu script de entrenamiento\n",
    "    source_dir=source_dir,        # La carpeta que contiene tu script\n",
    "    instance_count=1,             # Número de máquinas para el entrenamiento\n",
    "    instance_type='local',#'ml.m5.large',  # Tipo de máquina a usar\n",
    "    hyperparameters={             # Hiperparámetros que se pasan a tu script\n",
    "        'n-estimators': 250,\n",
    "        'random-state': 42\n",
    "    },\n",
    "    #sagemaker_session=sagemaker_session\n",
    ")"
   ]
  },
  {
   "cell_type": "code",
   "execution_count": 12,
   "id": "87ff1bb5-3da8-40bf-ac18-6dcc8c2b35ab",
   "metadata": {},
   "outputs": [
    {
     "name": "stdout",
     "output_type": "stream",
     "text": [
      "Iniciando el trabajo de entrenamiento...\n"
     ]
    },
    {
     "name": "stderr",
     "output_type": "stream",
     "text": [
      "INFO:sagemaker:Creating training-job with name: byco2-sklearn-1-5-2025-07-11-15-31-35-770\n",
      "INFO:sagemaker.telemetry.telemetry_logging:SageMaker Python SDK will collect telemetry to help us better understand our user's needs, diagnose issues, and deliver additional features.\n",
      "To opt out of telemetry, please disable via TelemetryOptOut parameter in SDK defaults config. For more information, refer to https://sagemaker.readthedocs.io/en/stable/overview.html#configuring-and-using-defaults-with-the-sagemaker-python-sdk.\n",
      "INFO:sagemaker.local.image:'Docker Compose' is not installed. Proceeding to check for 'docker-compose' CLI.\n",
      "INFO:sagemaker.local.image:'Docker Compose' found using Docker Compose CLI.\n",
      "INFO:sagemaker.local.local_session:Starting training job\n",
      "INFO:botocore.credentials:Found credentials from IAM Role: BaseNotebookInstanceEc2InstanceRole\n",
      "INFO:sagemaker.local.image:No AWS credentials found in session but credentials from EC2 Metadata Service are available.\n",
      "INFO:sagemaker.local.image:docker compose file: \n",
      "networks:\n",
      "  sagemaker-local:\n",
      "    name: sagemaker-local\n",
      "services:\n",
      "  algo-1-jug04:\n",
      "    command: train\n",
      "    container_name: 2uufkvci4k-algo-1-jug04\n",
      "    environment:\n",
      "    - '[Masked]'\n",
      "    - '[Masked]'\n",
      "    - '[Masked]'\n",
      "    image: 544644514035.dkr.ecr.us-east-1.amazonaws.com/byco2-sklearn-1-5:latest\n",
      "    networks:\n",
      "      sagemaker-local:\n",
      "        aliases:\n",
      "        - algo-1-jug04\n",
      "    stdin_open: true\n",
      "    tty: true\n",
      "    volumes:\n",
      "    - /tmp/tmp20o1s8s1/algo-1-jug04/output:/opt/ml/output\n",
      "    - /tmp/tmp20o1s8s1/algo-1-jug04/input:/opt/ml/input\n",
      "    - /tmp/tmp20o1s8s1/algo-1-jug04/output/data:/opt/ml/output/data\n",
      "    - /tmp/tmp20o1s8s1/model:/opt/ml/model\n",
      "    - /opt/ml/metadata:/opt/ml/metadata\n",
      "    - /tmp/tmpte0hneo0:/opt/ml/input/data/training\n",
      "version: '2.3'\n",
      "\n",
      "WARNING! Your password will be stored unencrypted in /home/ec2-user/.docker/config.json.\n",
      "Configure a credential helper to remove this warning. See\n",
      "https://docs.docker.com/engine/reference/commandline/login/#credentials-store\n",
      "\n",
      "INFO:sagemaker.local.image:docker command: docker pull 544644514035.dkr.ecr.us-east-1.amazonaws.com/byco2-sklearn-1-5:latest\n"
     ]
    },
    {
     "name": "stdout",
     "output_type": "stream",
     "text": [
      "Login Succeeded\n"
     ]
    },
    {
     "name": "stderr",
     "output_type": "stream",
     "text": [
      "INFO:sagemaker.local.image:image pulled: 544644514035.dkr.ecr.us-east-1.amazonaws.com/byco2-sklearn-1-5:latest\n",
      "INFO:sagemaker.local.image:docker command: docker-compose -f /tmp/tmp20o1s8s1/docker-compose.yaml up --build --abort-on-container-exit\n"
     ]
    },
    {
     "name": "stdout",
     "output_type": "stream",
     "text": [
      " Container 2uufkvci4k-algo-1-jug04  Creating\n",
      " Container 2uufkvci4k-algo-1-jug04  Created\n",
      "Attaching to 2uufkvci4k-algo-1-jug04\n",
      "2uufkvci4k-algo-1-jug04  | /usr/local/lib/python3.9/site-packages/sagemaker_containers/_server.py:20: UserWarning: pkg_resources is deprecated as an API. See https://setuptools.pypa.io/en/latest/pkg_resources.html. The pkg_resources package is slated for removal as early as 2025-11-30. Refrain from using this package or pin to Setuptools<81.\n",
      "2uufkvci4k-algo-1-jug04  |   import pkg_resources\n",
      "2uufkvci4k-algo-1-jug04  | 2025-07-11 15:32:05,418 sagemaker-containers INFO     No GPUs detected (normal if no gpus installed)\n",
      "2uufkvci4k-algo-1-jug04  | 2025-07-11 15:32:05,430 sagemaker-containers INFO     Invoking user script\n",
      "2uufkvci4k-algo-1-jug04  | \n",
      "2uufkvci4k-algo-1-jug04  | Training Env:\n",
      "2uufkvci4k-algo-1-jug04  | \n",
      "2uufkvci4k-algo-1-jug04  | {\n",
      "2uufkvci4k-algo-1-jug04  |     \"additional_framework_parameters\": {},\n",
      "2uufkvci4k-algo-1-jug04  |     \"channel_input_dirs\": {\n",
      "2uufkvci4k-algo-1-jug04  |         \"training\": \"/opt/ml/input/data/training\"\n",
      "2uufkvci4k-algo-1-jug04  |     },\n",
      "2uufkvci4k-algo-1-jug04  |     \"current_host\": \"algo-1-jug04\",\n",
      "2uufkvci4k-algo-1-jug04  |     \"framework_module\": null,\n",
      "2uufkvci4k-algo-1-jug04  |     \"hosts\": [\n",
      "2uufkvci4k-algo-1-jug04  |         \"algo-1-jug04\"\n",
      "2uufkvci4k-algo-1-jug04  |     ],\n",
      "2uufkvci4k-algo-1-jug04  |     \"hyperparameters\": {\n",
      "2uufkvci4k-algo-1-jug04  |         \"n-estimators\": 250,\n",
      "2uufkvci4k-algo-1-jug04  |         \"random-state\": 42\n",
      "2uufkvci4k-algo-1-jug04  |     },\n",
      "2uufkvci4k-algo-1-jug04  |     \"input_config_dir\": \"/opt/ml/input/config\",\n",
      "2uufkvci4k-algo-1-jug04  |     \"input_data_config\": {\n",
      "2uufkvci4k-algo-1-jug04  |         \"training\": {\n",
      "2uufkvci4k-algo-1-jug04  |             \"TrainingInputMode\": \"File\"\n",
      "2uufkvci4k-algo-1-jug04  |         }\n",
      "2uufkvci4k-algo-1-jug04  |     },\n",
      "2uufkvci4k-algo-1-jug04  |     \"input_dir\": \"/opt/ml/input\",\n",
      "2uufkvci4k-algo-1-jug04  |     \"job_name\": \"byco2-sklearn-1-5-2025-07-11-15-31-35-770\",\n",
      "2uufkvci4k-algo-1-jug04  |     \"log_level\": 20,\n",
      "2uufkvci4k-algo-1-jug04  |     \"model_dir\": \"/opt/ml/model\",\n",
      "2uufkvci4k-algo-1-jug04  |     \"module_dir\": \"s3://sagemaker-us-east-1-544644514035/byco2-sklearn-1-5-2025-07-11-15-31-35-770/source/sourcedir.tar.gz\",\n",
      "2uufkvci4k-algo-1-jug04  |     \"module_name\": \"app\",\n",
      "2uufkvci4k-algo-1-jug04  |     \"network_interface_name\": \"eth0\",\n",
      "2uufkvci4k-algo-1-jug04  |     \"num_cpus\": 2,\n",
      "2uufkvci4k-algo-1-jug04  |     \"num_gpus\": 0,\n",
      "2uufkvci4k-algo-1-jug04  |     \"output_data_dir\": \"/opt/ml/output/data\",\n",
      "2uufkvci4k-algo-1-jug04  |     \"output_dir\": \"/opt/ml/output\",\n",
      "2uufkvci4k-algo-1-jug04  |     \"output_intermediate_dir\": \"/opt/ml/output/intermediate\",\n",
      "2uufkvci4k-algo-1-jug04  |     \"resource_config\": {\n",
      "2uufkvci4k-algo-1-jug04  |         \"current_host\": \"algo-1-jug04\",\n",
      "2uufkvci4k-algo-1-jug04  |         \"hosts\": [\n",
      "2uufkvci4k-algo-1-jug04  |             \"algo-1-jug04\"\n",
      "2uufkvci4k-algo-1-jug04  |         ],\n",
      "2uufkvci4k-algo-1-jug04  |         \"network_interface_name\": \"eth0\",\n",
      "2uufkvci4k-algo-1-jug04  |         \"current_instance_type\": \"local\"\n",
      "2uufkvci4k-algo-1-jug04  |     },\n",
      "2uufkvci4k-algo-1-jug04  |     \"user_entry_point\": \"app.py\"\n",
      "2uufkvci4k-algo-1-jug04  | }\n",
      "2uufkvci4k-algo-1-jug04  | \n",
      "2uufkvci4k-algo-1-jug04  | Environment variables:\n",
      "2uufkvci4k-algo-1-jug04  | \n",
      "2uufkvci4k-algo-1-jug04  | SM_HOSTS=[\"algo-1-jug04\"]\n",
      "2uufkvci4k-algo-1-jug04  | SM_NETWORK_INTERFACE_NAME=eth0\n",
      "2uufkvci4k-algo-1-jug04  | SM_HPS={\"n-estimators\":250,\"random-state\":42}\n",
      "2uufkvci4k-algo-1-jug04  | SM_USER_ENTRY_POINT=app.py\n",
      "2uufkvci4k-algo-1-jug04  | SM_FRAMEWORK_PARAMS={}\n",
      "2uufkvci4k-algo-1-jug04  | SM_RESOURCE_CONFIG={\"current_host\":\"algo-1-jug04\",\"current_instance_type\":\"local\",\"hosts\":[\"algo-1-jug04\"],\"network_interface_name\":\"eth0\"}\n",
      "2uufkvci4k-algo-1-jug04  | SM_INPUT_DATA_CONFIG={\"training\":{\"TrainingInputMode\":\"File\"}}\n",
      "2uufkvci4k-algo-1-jug04  | SM_OUTPUT_DATA_DIR=/opt/ml/output/data\n",
      "2uufkvci4k-algo-1-jug04  | SM_CHANNELS=[\"training\"]\n",
      "2uufkvci4k-algo-1-jug04  | SM_CURRENT_HOST=algo-1-jug04\n",
      "2uufkvci4k-algo-1-jug04  | SM_MODULE_NAME=app\n",
      "2uufkvci4k-algo-1-jug04  | SM_LOG_LEVEL=20\n",
      "2uufkvci4k-algo-1-jug04  | SM_FRAMEWORK_MODULE=\n",
      "2uufkvci4k-algo-1-jug04  | SM_INPUT_DIR=/opt/ml/input\n",
      "2uufkvci4k-algo-1-jug04  | SM_INPUT_CONFIG_DIR=/opt/ml/input/config\n",
      "2uufkvci4k-algo-1-jug04  | SM_OUTPUT_DIR=/opt/ml/output\n",
      "2uufkvci4k-algo-1-jug04  | SM_NUM_CPUS=2\n",
      "2uufkvci4k-algo-1-jug04  | SM_NUM_GPUS=0\n",
      "2uufkvci4k-algo-1-jug04  | SM_MODEL_DIR=/opt/ml/model\n",
      "2uufkvci4k-algo-1-jug04  | SM_MODULE_DIR=s3://sagemaker-us-east-1-544644514035/byco2-sklearn-1-5-2025-07-11-15-31-35-770/source/sourcedir.tar.gz\n",
      "2uufkvci4k-algo-1-jug04  | SM_TRAINING_ENV={\"additional_framework_parameters\":{},\"channel_input_dirs\":{\"training\":\"/opt/ml/input/data/training\"},\"current_host\":\"algo-1-jug04\",\"framework_module\":null,\"hosts\":[\"algo-1-jug04\"],\"hyperparameters\":{\"n-estimators\":250,\"random-state\":42},\"input_config_dir\":\"/opt/ml/input/config\",\"input_data_config\":{\"training\":{\"TrainingInputMode\":\"File\"}},\"input_dir\":\"/opt/ml/input\",\"job_name\":\"byco2-sklearn-1-5-2025-07-11-15-31-35-770\",\"log_level\":20,\"model_dir\":\"/opt/ml/model\",\"module_dir\":\"s3://sagemaker-us-east-1-544644514035/byco2-sklearn-1-5-2025-07-11-15-31-35-770/source/sourcedir.tar.gz\",\"module_name\":\"app\",\"network_interface_name\":\"eth0\",\"num_cpus\":2,\"num_gpus\":0,\"output_data_dir\":\"/opt/ml/output/data\",\"output_dir\":\"/opt/ml/output\",\"output_intermediate_dir\":\"/opt/ml/output/intermediate\",\"resource_config\":{\"current_host\":\"algo-1-jug04\",\"current_instance_type\":\"local\",\"hosts\":[\"algo-1-jug04\"],\"network_interface_name\":\"eth0\"},\"user_entry_point\":\"app.py\"}\n",
      "2uufkvci4k-algo-1-jug04  | SM_USER_ARGS=[\"--n-estimators\",\"250\",\"--random-state\",\"42\"]\n",
      "2uufkvci4k-algo-1-jug04  | SM_OUTPUT_INTERMEDIATE_DIR=/opt/ml/output/intermediate\n",
      "2uufkvci4k-algo-1-jug04  | SM_CHANNEL_TRAINING=/opt/ml/input/data/training\n",
      "2uufkvci4k-algo-1-jug04  | SM_HP_N-ESTIMATORS=250\n",
      "2uufkvci4k-algo-1-jug04  | SM_HP_RANDOM-STATE=42\n",
      "2uufkvci4k-algo-1-jug04  | PYTHONPATH=/opt/ml/code:/usr/local/bin:/usr/local/lib/python39.zip:/usr/local/lib/python3.9:/usr/local/lib/python3.9/lib-dynload:/usr/local/lib/python3.9/site-packages:/usr/local/lib/python3.9/site-packages/setuptools/_vendor\n",
      "2uufkvci4k-algo-1-jug04  | \n",
      "2uufkvci4k-algo-1-jug04  | Invoking script with the following command:\n",
      "2uufkvci4k-algo-1-jug04  | \n",
      "2uufkvci4k-algo-1-jug04  | /usr/local/bin/python3.9 app.py --n-estimators 250 --random-state 42\n",
      "2uufkvci4k-algo-1-jug04  | \n",
      "2uufkvci4k-algo-1-jug04  | \n",
      "2uufkvci4k-algo-1-jug04  | --- Starting Training Script (Robust Version) ---\n",
      "2uufkvci4k-algo-1-jug04  | Hyperparameters: n-estimators=100, random-state=42\n",
      "2uufkvci4k-algo-1-jug04  | Model directory: /opt/ml/model\n",
      "2uufkvci4k-algo-1-jug04  | Training data directory: /opt/ml/input/data/training\n",
      "2uufkvci4k-algo-1-jug04  | Preprocessing data...\n",
      "2uufkvci4k-algo-1-jug04  | Training the RandomForest model...\n",
      "2uufkvci4k-algo-1-jug04  | Saving final model to: /opt/ml/model/model.joblib\n",
      "2uufkvci4k-algo-1-jug04  | --- Training Script finished successfully ---\n",
      "2uufkvci4k-algo-1-jug04  | 2025-07-11 15:32:08,359 sagemaker-containers INFO     Reporting training SUCCESS\n",
      "2uufkvci4k-algo-1-jug04 exited with code 0\n",
      "Aborting on container exit...\n",
      " Container 2uufkvci4k-algo-1-jug04  Stopping\n",
      " Container 2uufkvci4k-algo-1-jug04  Stopped\n"
     ]
    },
    {
     "name": "stderr",
     "output_type": "stream",
     "text": [
      "INFO:sagemaker.local.image:===== Job Complete =====\n"
     ]
    },
    {
     "name": "stdout",
     "output_type": "stream",
     "text": [
      "Trabajo de entrenamiento completado.\n"
     ]
    }
   ],
   "source": [
    "print(\"Iniciando el trabajo de entrenamiento...\")\n",
    "estimator.fit({'training': s3_input_train_path})\n",
    "print(\"Trabajo de entrenamiento completado.\")"
   ]
  },
  {
   "cell_type": "code",
   "execution_count": 13,
   "id": "a81f2ebe-ba83-47b8-9e3c-c0e47f176c32",
   "metadata": {},
   "outputs": [
    {
     "data": {
      "text/plain": [
       "<sagemaker.estimator.Estimator at 0x7fc7f5a43c70>"
      ]
     },
     "execution_count": 13,
     "metadata": {},
     "output_type": "execute_result"
    }
   ],
   "source": [
    "estimator"
   ]
  },
  {
   "cell_type": "code",
   "execution_count": 14,
   "id": "d832ecc3-1e80-46fb-83c3-e0d0e22fc5c9",
   "metadata": {},
   "outputs": [
    {
     "name": "stdout",
     "output_type": "stream",
     "text": [
      "s3://sagemaker-us-east-1-544644514035/byco2-sklearn-1-5-2025-07-11-15-31-35-770/output/model.tar.gz\n"
     ]
    }
   ],
   "source": [
    "# Muestra la ubicación del modelo entrenado en S3\n",
    "print(estimator.model_data)"
   ]
  },
  {
   "cell_type": "markdown",
   "id": "908358d6-aa62-450b-b855-0a71673ff054",
   "metadata": {},
   "source": [
    "# Inference"
   ]
  },
  {
   "cell_type": "markdown",
   "id": "cf4688dd-7579-4f9f-a95d-0dc63df57f40",
   "metadata": {},
   "source": [
    "## Inference desde el Estimator"
   ]
  },
  {
   "cell_type": "code",
   "execution_count": 43,
   "id": "5fd942b0-c436-44a6-ad41-ea332fec1a09",
   "metadata": {},
   "outputs": [
    {
     "name": "stderr",
     "output_type": "stream",
     "text": [
      "INFO:sagemaker:Creating model with name: byco2-sklearn-1-5-2025-07-11-18-37-28-615\n",
      "INFO:sagemaker.telemetry.telemetry_logging:SageMaker Python SDK will collect telemetry to help us better understand our user's needs, diagnose issues, and deliver additional features.\n",
      "To opt out of telemetry, please disable via TelemetryOptOut parameter in SDK defaults config. For more information, refer to https://sagemaker.readthedocs.io/en/stable/overview.html#configuring-and-using-defaults-with-the-sagemaker-python-sdk.\n",
      "INFO:sagemaker:Creating endpoint-config with name byco2-sklearn-1-5-2025-07-11-18-37-28-615\n",
      "INFO:sagemaker.telemetry.telemetry_logging:SageMaker Python SDK will collect telemetry to help us better understand our user's needs, diagnose issues, and deliver additional features.\n",
      "To opt out of telemetry, please disable via TelemetryOptOut parameter in SDK defaults config. For more information, refer to https://sagemaker.readthedocs.io/en/stable/overview.html#configuring-and-using-defaults-with-the-sagemaker-python-sdk.\n",
      "INFO:sagemaker:Creating endpoint with name byco2-sklearn-1-5-2025-07-11-18-37-28-615\n",
      "INFO:sagemaker.telemetry.telemetry_logging:SageMaker Python SDK will collect telemetry to help us better understand our user's needs, diagnose issues, and deliver additional features.\n",
      "To opt out of telemetry, please disable via TelemetryOptOut parameter in SDK defaults config. For more information, refer to https://sagemaker.readthedocs.io/en/stable/overview.html#configuring-and-using-defaults-with-the-sagemaker-python-sdk.\n",
      "INFO:sagemaker.local.image:'Docker Compose' is not installed. Proceeding to check for 'docker-compose' CLI.\n",
      "INFO:sagemaker.local.image:'Docker Compose' found using Docker Compose CLI.\n",
      "INFO:sagemaker.local.image:serving\n",
      "INFO:sagemaker.local.image:creating hosting dir in /tmp/tmp5lmoc_ca\n",
      "INFO:botocore.credentials:Found credentials from IAM Role: BaseNotebookInstanceEc2InstanceRole\n",
      "INFO:sagemaker.local.image:No AWS credentials found in session but credentials from EC2 Metadata Service are available.\n",
      "INFO:sagemaker.local.image:docker compose file: \n",
      "networks:\n",
      "  sagemaker-local:\n",
      "    name: sagemaker-local\n",
      "services:\n",
      "  algo-1-z97p4:\n",
      "    command: serve\n",
      "    container_name: 69cpfgikeq-algo-1-z97p4\n",
      "    environment: []\n",
      "    image: 544644514035.dkr.ecr.us-east-1.amazonaws.com/byco2-sklearn-1-5:latest\n",
      "    networks:\n",
      "      sagemaker-local:\n",
      "        aliases:\n",
      "        - algo-1-z97p4\n",
      "    ports:\n",
      "    - 8080:8080\n",
      "    stdin_open: true\n",
      "    tty: true\n",
      "    volumes:\n",
      "    - /tmp/tmp_o_kv2f0:/opt/ml/model\n",
      "version: '2.3'\n",
      "\n",
      "INFO:sagemaker.local.image:docker command: docker-compose -f /tmp/tmp5lmoc_ca/docker-compose.yaml up --build --abort-on-container-exit\n",
      "INFO:sagemaker.local.entities:Checking if serving container is up, attempt: 5\n",
      "WARNING:urllib3.connectionpool:Retrying (Retry(total=2, connect=None, read=None, redirect=None, status=None)) after connection broken by 'NewConnectionError('<urllib3.connection.HTTPConnection object at 0x7fc7f5987d90>: Failed to establish a new connection: [Errno 111] Connection refused')': /ping\n",
      "WARNING:urllib3.connectionpool:Retrying (Retry(total=1, connect=None, read=None, redirect=None, status=None)) after connection broken by 'NewConnectionError('<urllib3.connection.HTTPConnection object at 0x7fc7f5984e80>: Failed to establish a new connection: [Errno 111] Connection refused')': /ping\n",
      "WARNING:urllib3.connectionpool:Retrying (Retry(total=0, connect=None, read=None, redirect=None, status=None)) after connection broken by 'NewConnectionError('<urllib3.connection.HTTPConnection object at 0x7fc7f5987b80>: Failed to establish a new connection: [Errno 111] Connection refused')': /ping\n",
      "INFO:sagemaker.local.entities:Container still not up, got: -1\n"
     ]
    },
    {
     "name": "stdout",
     "output_type": "stream",
     "text": [
      "Attaching to 69cpfgikeq-algo-1-z97p4\n",
      "69cpfgikeq-algo-1-z97p4  | --- Verificando contenido de /opt/ml/code ---\n",
      "69cpfgikeq-algo-1-z97p4  | /opt/ml/code:\n",
      "69cpfgikeq-algo-1-z97p4  | total 0\n",
      "69cpfgikeq-algo-1-z97p4  | --- Fin de la verificación ---\n",
      "69cpfgikeq-algo-1-z97p4  | --- Verificando contenido de /opt/ml/input ---\n",
      "69cpfgikeq-algo-1-z97p4  | ls: cannot access '/opt/ml/input': No such file or directory\n",
      "69cpfgikeq-algo-1-z97p4  | --- Fin de la verificación ---\n",
      "69cpfgikeq-algo-1-z97p4  | Creando directorio de código en /opt/ml/code\n",
      "69cpfgikeq-algo-1-z97p4  | Descargando scripts de s3://machine-learning-serviciosnutresa-modelos-lab/titanic/artifacts/code/ a /opt/ml/code\n",
      "download: s3://machine-learning-serviciosnutresa-modelos-lab/titanic/artifacts/code/app.py to ./app.py\n",
      "download: s3://machine-learning-serviciosnutresa-modelos-lab/titanic/artifacts/code/wsgi.py to ./wsgi.py\n",
      "69cpfgikeq-algo-1-z97p4  | Contenido del directorio después de la descarga:\n",
      "69cpfgikeq-algo-1-z97p4  | /opt/ml/code:\n",
      "69cpfgikeq-algo-1-z97p4  | total 12\n",
      "69cpfgikeq-algo-1-z97p4  | -rw-r--r-- 1 root root 4401 Jul 11 18:30 app.py\n",
      "69cpfgikeq-algo-1-z97p4  | -rw-r--r-- 1 root root 1163 Jul  9 15:47 wsgi.py\n",
      "69cpfgikeq-algo-1-z97p4  | /usr/local/lib/python3.9/site-packages/gunicorn/util.py:25: UserWarning: pkg_resources is deprecated as an API. See https://setuptools.pypa.io/en/latest/pkg_resources.html. The pkg_resources package is slated for removal as early as 2025-11-30. Refrain from using this package or pin to Setuptools<81.\n",
      "69cpfgikeq-algo-1-z97p4  |   import pkg_resources\n",
      "69cpfgikeq-algo-1-z97p4  | [2025-07-11 18:37:30 +0000] [1] [INFO] Starting gunicorn 20.1.0\n",
      "69cpfgikeq-algo-1-z97p4  | [2025-07-11 18:37:30 +0000] [1] [INFO] Listening at: http://0.0.0.0:8080 (1)\n",
      "69cpfgikeq-algo-1-z97p4  | [2025-07-11 18:37:30 +0000] [1] [INFO] Using worker: sync\n",
      "69cpfgikeq-algo-1-z97p4  | [2025-07-11 18:37:30 +0000] [17] [INFO] Booting worker with pid: 17\n",
      "69cpfgikeq-algo-1-z97p4  | Intentando importar el módulo de usuario: app\n",
      "69cpfgikeq-algo-1-z97p4  | Módulo de usuario importado exitosamente.\n",
      "69cpfgikeq-algo-1-z97p4  | Cargando modelo desde la ruta fija: /opt/ml/model\n",
      "69cpfgikeq-algo-1-z97p4  | Inferencing: Loading model from disk.\n",
      "69cpfgikeq-algo-1-z97p4  | Modelo cargado exitosamente.\n"
     ]
    },
    {
     "name": "stderr",
     "output_type": "stream",
     "text": [
      "INFO:sagemaker.local.entities:Checking if serving container is up, attempt: 10\n"
     ]
    },
    {
     "name": "stdout",
     "output_type": "stream",
     "text": [
      "!"
     ]
    }
   ],
   "source": [
    "# --- Paso de Inferencia: Desplegar el modelo ---\n",
    "\n",
    "#print(\"Iniciando el despliegue del modelo en un endpoint...\")\n",
    "\n",
    "# Usamos el objeto 'estimator' para desplegar el modelo.\n",
    "# SageMaker se encarga de crear el Modelo, la Configuración del Endpoint y el Endpoint.\n",
    "# Usamos una instancia pequeña y económica para esta prueba.\n",
    "predictor = estimator.deploy(\n",
    "    initial_instance_count=1,\n",
    "    instance_type='ml.t2.medium' \n",
    ")\n",
    "\n",
    "#print(\"\\n¡Despliegue completado!\")\n",
    "#print(f\"El nombre de tu endpoint es: {predictor.endpoint_name}\")"
   ]
  },
  {
   "cell_type": "code",
   "execution_count": 44,
   "id": "2a5943a0-954a-4b1a-bdbc-2d96f924bb66",
   "metadata": {},
   "outputs": [
    {
     "name": "stdout",
     "output_type": "stream",
     "text": [
      "69cpfgikeq-algo-1-z97p4  | Inferencing: Received request with Content-Type: text/csv\n",
      "69cpfgikeq-algo-1-z97p4  | Inferencing: Performing prediction.\n",
      "69cpfgikeq-algo-1-z97p4  | Inferencing: Serializing prediction for Accept type: application/json\n",
      "69cpfgikeq-algo-1-z97p4  | --- DEBUG: Iniciando output_fn ---\n",
      "69cpfgikeq-algo-1-z97p4  | Valor de la variable 'accept': application/json\n",
      "69cpfgikeq-algo-1-z97p4  | Tipo de la variable 'accept': <class 'werkzeug.datastructures.MIMEAccept'>\n",
      "69cpfgikeq-algo-1-z97p4  | Contenido como string: application/json\n",
      "69cpfgikeq-algo-1-z97p4  | --- FIN DEBUG ---\n",
      "Predicción recibida: {'predictions': [0]}\n"
     ]
    }
   ],
   "source": [
    "from sagemaker.serializers import CSVSerializer\n",
    "from sagemaker.deserializers import JSONDeserializer\n",
    "\n",
    "# Configura cómo enviar los datos (en formato CSV)\n",
    "predictor.serializer = CSVSerializer()\n",
    "# Configura cómo recibir los datos (en formato JSON)\n",
    "predictor.deserializer = JSONDeserializer()\n",
    "\n",
    "# Prepara tus datos de prueba en el formato que tu función `input_fn` espera\n",
    "# Por ejemplo, una fila en formato CSV para el modelo del Titanic:\n",
    "# Pclass, Sex, Age, SibSp, Parch, Fare\n",
    "test_data = \"3,male,22.0,1,0,7.25\"\n",
    "\n",
    "# Llama al endpoint para obtener una predicción\n",
    "try:\n",
    "    prediction = predictor.predict(test_data)\n",
    "    print(\"Predicción recibida:\", prediction)\n",
    "\n",
    "except Exception as e:\n",
    "    print(f\"Error al invocar el endpoint: {e}\")"
   ]
  },
  {
   "cell_type": "code",
   "execution_count": 17,
   "id": "19157df8-56f9-461d-ba20-568ad4852702",
   "metadata": {},
   "outputs": [
    {
     "name": "stdout",
     "output_type": "stream",
     "text": [
      "dkixnt4ta0-algo-1-4imrs  | Inferencing: Received request with Content-Type: text/csv\n",
      "dkixnt4ta0-algo-1-4imrs  | Inferencing: Performing prediction.\n",
      "dkixnt4ta0-algo-1-4imrs  | Inferencing: Serializing prediction for Accept type: application/json\n",
      "Predicción recibida: {'predictions': [1]}\n"
     ]
    }
   ],
   "source": [
    "# Configura cómo enviar los datos (en formato CSV)\n",
    "predictor.serializer = CSVSerializer()\n",
    "# Configura cómo recibir los datos (en formato JSON)\n",
    "predictor.deserializer = JSONDeserializer()\n",
    "\n",
    "# Prepara tus datos de prueba en el formato que tu función `input_fn` espera\n",
    "# Por ejemplo, una fila en formato CSV para el modelo del Titanic:\n",
    "# Pclass, Sex, Age, SibSp, Parch, Fare\n",
    "test_data = \"1,female,38.0,1,0,71.28\"\n",
    "\n",
    "# Llama al endpoint para obtener una predicción\n",
    "try:\n",
    "    prediction = predictor.predict(test_data)\n",
    "    print(\"Predicción recibida:\", prediction)\n",
    "\n",
    "except Exception as e:\n",
    "    print(f\"Error al invocar el endpoint: {e}\")"
   ]
  },
  {
   "cell_type": "code",
   "execution_count": 18,
   "id": "4c107d68-6303-4199-a4b2-3560685f4573",
   "metadata": {},
   "outputs": [
    {
     "name": "stderr",
     "output_type": "stream",
     "text": [
      "INFO:sagemaker:Deleting endpoint configuration with name: byco2-sklearn-1-5-2025-07-11-15-32-09-832\n",
      "INFO:sagemaker:Deleting endpoint with name: byco2-sklearn-1-5-2025-07-11-15-32-09-832\n"
     ]
    },
    {
     "name": "stdout",
     "output_type": "stream",
     "text": [
      "Endpoint eliminado exitosamente.\n"
     ]
    }
   ],
   "source": [
    "# Una vez que termines de hacer pruebas, elimina el endpoint\n",
    "predictor.delete_endpoint()\n",
    "\n",
    "print(\"Endpoint eliminado exitosamente.\")"
   ]
  },
  {
   "cell_type": "markdown",
   "id": "b9bd1925-31de-447b-ae5d-0ef1f7798946",
   "metadata": {},
   "source": [
    "## Inference desde Model"
   ]
  },
  {
   "cell_type": "code",
   "execution_count": 19,
   "id": "576f6f0a-4c55-4d85-94d7-7c11cfe24057",
   "metadata": {},
   "outputs": [],
   "source": [
    "model = Model(\n",
    "    model_data=estimator.model_data,\n",
    "    image_uri=estimator.image_uri,\n",
    "    role=role,\n",
    "    source_dir='./src/',\n",
    "    entry_point='app.py' # <- APUNTAS AL MISMO SCRIPT\n",
    ")"
   ]
  },
  {
   "cell_type": "code",
   "execution_count": 20,
   "id": "d1f4e548-e17c-4fda-9d03-8034cc87aa6b",
   "metadata": {},
   "outputs": [
    {
     "name": "stdout",
     "output_type": "stream",
     "text": [
      "Iniciando el despliegue del modelo en un endpoint...\n"
     ]
    },
    {
     "name": "stderr",
     "output_type": "stream",
     "text": [
      "INFO:sagemaker:Repacking model artifact (s3://sagemaker-us-east-1-544644514035/byco2-sklearn-1-5-2025-07-11-15-31-35-770/output/model.tar.gz), script artifact (./src/), and dependencies ([]) into single tar.gz file located at s3://sagemaker-us-east-1-544644514035/byco2-sklearn-1-5-2025-07-11-15-32-45-948/model.tar.gz. This may take some time depending on model size...\n",
      "INFO:sagemaker:Creating model with name: byco2-sklearn-1-5-2025-07-11-15-32-47-469\n",
      "INFO:sagemaker:Creating endpoint-config with name byco2-sklearn-1-5-2025-07-11-15-32-48-096\n",
      "INFO:sagemaker:Creating endpoint with name byco2-sklearn-1-5-2025-07-11-15-32-48-096\n"
     ]
    },
    {
     "name": "stdout",
     "output_type": "stream",
     "text": [
      "----!"
     ]
    }
   ],
   "source": [
    "print(\"Iniciando el despliegue del modelo en un endpoint...\")\n",
    "\n",
    "# Usamos el objeto 'estimator' para desplegar el modelo.\n",
    "# SageMaker se encarga de crear el Modelo, la Configuración del Endpoint y el Endpoint.\n",
    "# Usamos una instancia pequeña y económica para esta prueba.\n",
    "predictor = model.deploy(\n",
    "    initial_instance_count=1,\n",
    "    instance_type='ml.t2.medium' \n",
    ")\n"
   ]
  },
  {
   "cell_type": "code",
   "execution_count": 21,
   "id": "ab25e103-78a4-4af0-b69a-362c8b9b6f90",
   "metadata": {},
   "outputs": [
    {
     "name": "stdout",
     "output_type": "stream",
     "text": [
      "None\n"
     ]
    }
   ],
   "source": [
    "print(predictor)"
   ]
  },
  {
   "cell_type": "code",
   "execution_count": 25,
   "id": "0b166f33-56c6-4e1b-883e-04a373955460",
   "metadata": {},
   "outputs": [
    {
     "name": "stdout",
     "output_type": "stream",
     "text": [
      "Conectando al endpoint: byco2-sklearn-1-5-2025-07-11-15-32-48-096\n",
      "Conexión exitosa.\n",
      "Predicción recibida: {'predictions': [1]}\n"
     ]
    }
   ],
   "source": [
    "from sagemaker.predictor import Predictor\n",
    "from sagemaker.serializers import CSVSerializer\n",
    "from sagemaker.deserializers import JSONDeserializer\n",
    "\n",
    "# 1. Pega aquí el nombre del endpoint que ya está creado\n",
    "endpoint_name = \"byco2-sklearn-1-5-2025-07-11-15-32-48-096\"\n",
    "\n",
    "# 2. Crea el objeto predictor \"conectándote\" al endpoint existente\n",
    "print(f\"Conectando al endpoint: {endpoint_name}\")\n",
    "predictor = Predictor(\n",
    "    endpoint_name=endpoint_name\n",
    ")\n",
    "print(\"Conexión exitosa.\")\n",
    "\n",
    "# 3. Ahora puedes configurar el predictor y usarlo normalmente\n",
    "predictor.serializer = CSVSerializer()\n",
    "predictor.deserializer = JSONDeserializer()\n",
    "\n",
    "# 4. Haz tu predicción\n",
    "test_data = \"1,female,38.0,1,0,71.28\"\n",
    "try:\n",
    "    prediction = predictor.predict(test_data)\n",
    "    print(\"Predicción recibida:\", prediction)\n",
    "except Exception as e:\n",
    "    print(f\"Error al invocar el endpoint: {e}\")\n",
    "\n",
    "# 5. No olvides borrar el endpoint cuando termines\n",
    "# predictor.delete_endpoint()"
   ]
  },
  {
   "cell_type": "code",
   "execution_count": 26,
   "id": "9813bc66-4a48-4534-9677-1f456cd3621b",
   "metadata": {},
   "outputs": [
    {
     "name": "stdout",
     "output_type": "stream",
     "text": [
      "Predicción recibida: {'predictions': [0]}\n"
     ]
    }
   ],
   "source": [
    "# 4. Haz tu predicción\n",
    "test_data = \"3,male,22.0,1,0,7.25\"\n",
    "try:\n",
    "    prediction = predictor.predict(test_data)\n",
    "    print(\"Predicción recibida:\", prediction)\n",
    "except Exception as e:\n",
    "    print(f\"Error al invocar el endpoint: {e}\")\n"
   ]
  },
  {
   "cell_type": "code",
   "execution_count": 27,
   "id": "12b9ccab-a842-4940-b0f9-4a95b0183954",
   "metadata": {},
   "outputs": [
    {
     "name": "stderr",
     "output_type": "stream",
     "text": [
      "INFO:sagemaker:Deleting endpoint configuration with name: byco2-sklearn-1-5-2025-07-11-15-32-48-096\n",
      "INFO:sagemaker:Deleting endpoint with name: byco2-sklearn-1-5-2025-07-11-15-32-48-096\n"
     ]
    },
    {
     "name": "stdout",
     "output_type": "stream",
     "text": [
      "Endpoint eliminado exitosamente.\n"
     ]
    }
   ],
   "source": [
    "# Una vez que termines de hacer pruebas, elimina el endpoint\n",
    "predictor.delete_endpoint()\n",
    "\n",
    "print(\"Endpoint eliminado exitosamente.\")"
   ]
  },
  {
   "cell_type": "markdown",
   "id": "9db88d07-6e2c-4b66-8a85-04e00ccf249e",
   "metadata": {},
   "source": [
    "# Batch Inference"
   ]
  },
  {
   "cell_type": "code",
   "execution_count": 28,
   "id": "d0f2bd7e-e145-4dbf-af0d-c9bb475f9e27",
   "metadata": {},
   "outputs": [],
   "source": [
    "s3_input_path = \"s3://machine-learning-serviciosnutresa-modelos-lab/titanic/data/test/test.csv\""
   ]
  },
  {
   "cell_type": "code",
   "execution_count": 45,
   "id": "c56535b6-ea7e-4b26-8fb6-0d26ca305687",
   "metadata": {},
   "outputs": [
    {
     "name": "stderr",
     "output_type": "stream",
     "text": [
      "INFO:sagemaker:Creating model with name: byco2-sklearn-1-5-2025-07-11-18-39-03-715\n",
      "INFO:sagemaker.telemetry.telemetry_logging:SageMaker Python SDK will collect telemetry to help us better understand our user's needs, diagnose issues, and deliver additional features.\n",
      "To opt out of telemetry, please disable via TelemetryOptOut parameter in SDK defaults config. For more information, refer to https://sagemaker.readthedocs.io/en/stable/overview.html#configuring-and-using-defaults-with-the-sagemaker-python-sdk.\n",
      "INFO:sagemaker:Creating transform job with name: byco2-sklearn-1-5-2025-07-11-18-39-03-806\n",
      "INFO:sagemaker.telemetry.telemetry_logging:SageMaker Python SDK will collect telemetry to help us better understand our user's needs, diagnose issues, and deliver additional features.\n",
      "To opt out of telemetry, please disable via TelemetryOptOut parameter in SDK defaults config. For more information, refer to https://sagemaker.readthedocs.io/en/stable/overview.html#configuring-and-using-defaults-with-the-sagemaker-python-sdk.\n",
      "INFO:sagemaker.local.image:'Docker Compose' is not installed. Proceeding to check for 'docker-compose' CLI.\n",
      "INFO:sagemaker.local.image:'Docker Compose' found using Docker Compose CLI.\n",
      "INFO:sagemaker.local.image:serving\n",
      "INFO:sagemaker.local.image:creating hosting dir in /tmp/tmpki1cifbv\n",
      "INFO:botocore.credentials:Found credentials from IAM Role: BaseNotebookInstanceEc2InstanceRole\n",
      "INFO:sagemaker.local.image:No AWS credentials found in session but credentials from EC2 Metadata Service are available.\n",
      "INFO:sagemaker.local.image:docker compose file: \n",
      "networks:\n",
      "  sagemaker-local:\n",
      "    name: sagemaker-local\n",
      "services:\n",
      "  algo-1-y95j7:\n",
      "    command: serve\n",
      "    container_name: 6zhdmzfjwh-algo-1-y95j7\n",
      "    environment:\n",
      "    - '[Masked]'\n",
      "    - '[Masked]'\n",
      "    image: 544644514035.dkr.ecr.us-east-1.amazonaws.com/byco2-sklearn-1-5:latest\n",
      "    networks:\n",
      "      sagemaker-local:\n",
      "        aliases:\n",
      "        - algo-1-y95j7\n",
      "    ports:\n",
      "    - 8080:8080\n",
      "    stdin_open: true\n",
      "    tty: true\n",
      "    volumes:\n",
      "    - /tmp/tmphtzgq4ze:/opt/ml/model\n",
      "version: '2.3'\n",
      "\n",
      "INFO:sagemaker.local.image:docker command: docker-compose -f /tmp/tmpki1cifbv/docker-compose.yaml up --build --abort-on-container-exit\n",
      "INFO:sagemaker.local.entities:Checking if serving container is up, attempt: 5\n",
      "Exception in thread Thread-22:\n",
      "Traceback (most recent call last):\n",
      "  File \"/home/ec2-user/anaconda3/envs/python3/lib/python3.10/site-packages/sagemaker/local/image.py\", line 964, in run\n",
      "    _stream_output(self.process)\n",
      "  File \"/home/ec2-user/anaconda3/envs/python3/lib/python3.10/site-packages/sagemaker/local/image.py\", line 1030, in _stream_output\n",
      "    raise RuntimeError(f\"Failed to run: {process.args}. Process exited with code: {exit_code}\")\n",
      "RuntimeError: Failed to run: ['docker-compose', '-f', '/tmp/tmpki1cifbv/docker-compose.yaml', 'up', '--build', '--abort-on-container-exit']. Process exited with code: 1\n",
      "\n",
      "During handling of the above exception, another exception occurred:\n",
      "\n",
      "Traceback (most recent call last):\n",
      "  File \"/home/ec2-user/anaconda3/envs/python3/lib/python3.10/threading.py\", line 1016, in _bootstrap_inner\n",
      "    self.run()\n",
      "  File \"/home/ec2-user/anaconda3/envs/python3/lib/python3.10/site-packages/sagemaker/local/image.py\", line 969, in run\n",
      "    raise RuntimeError(msg)\n",
      "RuntimeError: Failed to run: ['docker-compose', '-f', '/tmp/tmpki1cifbv/docker-compose.yaml', 'up', '--build', '--abort-on-container-exit'], Failed to run: ['docker-compose', '-f', '/tmp/tmpki1cifbv/docker-compose.yaml', 'up', '--build', '--abort-on-container-exit']. Process exited with code: 1\n"
     ]
    },
    {
     "name": "stdout",
     "output_type": "stream",
     "text": [
      "Attaching to 6zhdmzfjwh-algo-1-y95j7\n",
      "69cpfgikeq-algo-1-z97p4  | Inferencing: Received request with Content-Type: text/csv\n",
      "69cpfgikeq-algo-1-z97p4  | Inferencing: Performing prediction.\n",
      "69cpfgikeq-algo-1-z97p4  | Inferencing: Serializing prediction for Accept type: application/json\n",
      "69cpfgikeq-algo-1-z97p4  | --- DEBUG: Iniciando output_fn ---\n",
      "69cpfgikeq-algo-1-z97p4  | Valor de la variable 'accept': application/json\n",
      "69cpfgikeq-algo-1-z97p4  | Tipo de la variable 'accept': <class 'werkzeug.datastructures.MIMEAccept'>\n",
      "69cpfgikeq-algo-1-z97p4  | Contenido como string: application/json\n",
      "69cpfgikeq-algo-1-z97p4  | --- FIN DEBUG ---\n",
      "."
     ]
    }
   ],
   "source": [
    "# Define dónde quieres que se guarden las predicciones en S3\n",
    "s3_output_path = f\"s3://machine-learning-serviciosnutresa-modelos-lab/titanic/data/output/\"\n",
    "# 1. Crea el objeto transformador desde tu estimador ya entrenado\n",
    "transformer = estimator.transformer(\n",
    "    instance_count=1,\n",
    "    instance_type='ml.m5.large',\n",
    "    output_path=s3_output_path,\n",
    "    accept='application/json'  # <-- AÑADE ESTA LÍNEA\n",
    ")\n",
    "\n",
    "# 3. Lanza el trabajo de inferencia por Lotes\n",
    "#    (Esta parte no cambia)\n",
    "response = transformer.transform(\n",
    "    data=\"s3://machine-learning-serviciosnutresa-modelos-lab/titanic/data/test/test.csv\",\n",
    "    content_type='text/csv',\n",
    "    wait=True # Puedes usar wait=True para que el notebook espere a que termine\n",
    ")"
   ]
  }
 ],
 "metadata": {
  "kernelspec": {
   "display_name": "conda_python3",
   "language": "python",
   "name": "conda_python3"
  },
  "language_info": {
   "codemirror_mode": {
    "name": "ipython",
    "version": 3
   },
   "file_extension": ".py",
   "mimetype": "text/x-python",
   "name": "python",
   "nbconvert_exporter": "python",
   "pygments_lexer": "ipython3",
   "version": "3.10.18"
  }
 },
 "nbformat": 4,
 "nbformat_minor": 5
}
